{
 "cells": [
  {
   "cell_type": "code",
   "execution_count": 2,
   "metadata": {},
   "outputs": [
    {
     "name": "stdout",
     "output_type": "stream",
     "text": [
      "cuda\n"
     ]
    }
   ],
   "source": [
    "import time\n",
    "import torch\n",
    "from torch import nn, optim\n",
    "from utils import *\n",
    "import Nets\n",
    "from torchsummary import summary\n",
    "import matplotlib.pyplot as plt\n",
    "import utils\n",
    "import numpy as np\n",
    "device = torch.device(\"cuda\")"
   ]
  },
  {
   "cell_type": "code",
   "execution_count": 5,
   "metadata": {},
   "outputs": [
    {
     "name": "stdout",
     "output_type": "stream",
     "text": [
      "----------------------------------------------------------------\n",
      "        Layer (type)               Output Shape         Param #\n",
      "================================================================\n",
      "        nn_Reshape-1            [-1, 128, 1, 1]               0\n",
      "   ConvTranspose2d-2            [-1, 512, 4, 4]       1,049,088\n",
      "       BatchNorm2d-3            [-1, 512, 4, 4]           1,024\n",
      "              ReLU-4            [-1, 512, 4, 4]               0\n",
      "   ConvTranspose2d-5            [-1, 256, 8, 8]       2,097,408\n",
      "       BatchNorm2d-6            [-1, 256, 8, 8]             512\n",
      "              ReLU-7            [-1, 256, 8, 8]               0\n",
      "   ConvTranspose2d-8          [-1, 128, 16, 16]         524,416\n",
      "       BatchNorm2d-9          [-1, 128, 16, 16]             256\n",
      "             ReLU-10          [-1, 128, 16, 16]               0\n",
      "  ConvTranspose2d-11            [-1, 1, 32, 32]           2,049\n",
      "             Tanh-12            [-1, 1, 32, 32]               0\n",
      "nn_GrayScaleToRGB-13            [-1, 3, 32, 32]               0\n",
      "================================================================\n",
      "Total params: 3,674,753\n",
      "Trainable params: 3,674,753\n",
      "Non-trainable params: 0\n",
      "----------------------------------------------------------------\n",
      "Input size (MB): 0.00\n",
      "Forward/backward pass size (MB): 1.35\n",
      "Params size (MB): 14.02\n",
      "Estimated Total Size (MB): 15.37\n",
      "----------------------------------------------------------------\n"
     ]
    }
   ],
   "source": [
    "g_net = nn.Sequential(\n",
    "    utils.nn_Reshape(128, 1, 1),\n",
    "    nn.ConvTranspose2d(128, 512, kernel_size = 4, stride = 2, padding = 0),\n",
    "    nn.BatchNorm2d(512),\n",
    "    nn.ReLU(),\n",
    "    nn.ConvTranspose2d(512, 256, kernel_size = 4, stride = 2, padding = 1),\n",
    "    nn.BatchNorm2d(256),\n",
    "    nn.ReLU(),\n",
    "    nn.ConvTranspose2d(256, 128, kernel_size = 4, stride = 2, padding = 1),\n",
    "    nn.BatchNorm2d(128),\n",
    "    nn.ReLU(),\n",
    "    nn.ConvTranspose2d(128, 1, kernel_size = 4, stride = 2, padding = 1),\n",
    "    nn.Tanh(),\n",
    "    utils.nn_GrayScaleToRGB()\n",
    ")\n",
    "\n",
    "summary(g_net.to(device), (128,))"
   ]
  },
  {
   "cell_type": "code",
   "execution_count": 7,
   "metadata": {},
   "outputs": [
    {
     "name": "stdout",
     "output_type": "stream",
     "text": [
      "----------------------------------------------------------------\n",
      "        Layer (type)               Output Shape         Param #\n",
      "================================================================\n",
      " nn_GrayScaleToRGB-1            [-1, 3, 32, 32]               0\n",
      "            Conv2d-2          [-1, 128, 16, 16]           3,584\n",
      "              ReLU-3          [-1, 128, 16, 16]               0\n",
      "       BatchNorm2d-4          [-1, 128, 16, 16]             256\n",
      "            Conv2d-5            [-1, 256, 8, 8]         295,168\n",
      "       BatchNorm2d-6            [-1, 256, 8, 8]             512\n",
      "              ReLU-7            [-1, 256, 8, 8]               0\n",
      "            Conv2d-8            [-1, 512, 4, 4]       1,180,160\n",
      "       BatchNorm2d-9            [-1, 512, 4, 4]           1,024\n",
      "             ReLU-10            [-1, 512, 4, 4]               0\n",
      "           Conv2d-11              [-1, 3, 1, 1]          24,579\n",
      "          Flatten-12                    [-1, 3]               0\n",
      "          Softmax-13                    [-1, 3]               0\n",
      "================================================================\n",
      "Total params: 1,505,283\n",
      "Trainable params: 1,505,283\n",
      "Non-trainable params: 0\n",
      "----------------------------------------------------------------\n",
      "Input size (MB): 0.01\n",
      "Forward/backward pass size (MB): 1.34\n",
      "Params size (MB): 5.74\n",
      "Estimated Total Size (MB): 7.09\n",
      "----------------------------------------------------------------\n"
     ]
    }
   ],
   "source": [
    "D_net = nn.Sequential(\n",
    "    utils.nn_GrayScaleToRGB(),\n",
    "    nn.Conv2d(3, 128, kernel_size = 3, stride =2, padding = 1),\n",
    "    nn.ReLU(),\n",
    "    nn.BatchNorm2d(128),\n",
    "    nn.Conv2d(128, 256, kernel_size = 3, stride = 2, padding = 1),\n",
    "    nn.BatchNorm2d(256),\n",
    "    nn.ReLU(),\n",
    "    nn.Conv2d(256, 512, kernel_size = 3, stride = 2, padding = 1),\n",
    "    nn.BatchNorm2d(512),\n",
    "    nn.ReLU(),\n",
    "    nn.Conv2d(512, 3, kernel_size = 4, stride = 2, padding = 0),\n",
    "    nn.Flatten(),\n",
    "    nn.Softmax(dim = 1)\n",
    ")\n",
    "\n",
    "summary(D_net.to(device), (3,32,32))"
   ]
  },
  {
   "cell_type": "code",
   "execution_count": 24,
   "metadata": {},
   "outputs": [],
   "source": [
    "g_net = nn.Sequential(\n",
    "    utils.nn_Reshape(32, 2, 2),\n",
    "    nn.ConvTranspose2d(32, 16, kernel_size = 2, stride = 2, padding = 0),\n",
    "    nn.BatchNorm2d(16),\n",
    "    nn.ReLU(),\n",
    "    nn.ConvTranspose2d(16, 8, kernel_size = 2, stride = 2, padding = 0),\n",
    "    nn.BatchNorm2d(8),\n",
    "    nn.ReLU(),\n",
    "    nn.ConvTranspose2d(8, 4, kernel_size = 2, stride = 2, padding = 0),\n",
    "    nn.BatchNorm2d(4),\n",
    "    nn.ReLU(),\n",
    "    nn.ConvTranspose2d(4, 1, kernel_size = 2, stride = 2, padding = 0),\n",
    "    nn.BatchNorm2d(1),\n",
    "    nn.Tanh(),\n",
    "    utils.nn_GrayScaleToRGB()\n",
    ")\n"
   ]
  },
  {
   "cell_type": "code",
   "execution_count": 16,
   "metadata": {},
   "outputs": [],
   "source": [
    "a = torch.rand((2,2)).requires_grad_(True)\n",
    "\n",
    "fa = a**2 + a/2\n",
    "\n",
    "\n",
    "b = (fa*2).mean()\n",
    "\n",
    "b.backward(retain_graph=True)"
   ]
  },
  {
   "cell_type": "code",
   "execution_count": 17,
   "metadata": {},
   "outputs": [],
   "source": [
    "c = (fa * 123).sum()\n",
    "c.backward()"
   ]
  },
  {
   "cell_type": "code",
   "execution_count": null,
   "metadata": {},
   "outputs": [],
   "source": []
  }
 ],
 "metadata": {
  "kernelspec": {
   "display_name": "Python 3",
   "language": "python",
   "name": "python3"
  },
  "language_info": {
   "codemirror_mode": {
    "name": "ipython",
    "version": 3
   },
   "file_extension": ".py",
   "mimetype": "text/x-python",
   "name": "python",
   "nbconvert_exporter": "python",
   "pygments_lexer": "ipython3",
   "version": "3.7.9"
  }
 },
 "nbformat": 4,
 "nbformat_minor": 4
}
