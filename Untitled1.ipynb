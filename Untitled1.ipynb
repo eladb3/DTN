{
 "cells": [
  {
   "cell_type": "code",
   "execution_count": 1,
   "metadata": {},
   "outputs": [
    {
     "name": "stdout",
     "output_type": "stream",
     "text": [
      "cuda\n"
     ]
    }
   ],
   "source": [
    "import time\n",
    "import torch\n",
    "from torch import nn, optim\n",
    "from utils import *\n",
    "import Nets\n",
    "from torchsummary import summary\n",
    "import matplotlib.pyplot as plt\n",
    "import utils\n",
    "device = torch.device(\"cuda\")"
   ]
  },
  {
   "cell_type": "code",
   "execution_count": 2,
   "metadata": {},
   "outputs": [
    {
     "name": "stdout",
     "output_type": "stream",
     "text": [
      "----------------------------------------------------------------\n",
      "        Layer (type)               Output Shape         Param #\n",
      "================================================================\n",
      "        nn_Reshape-1             [-1, 32, 2, 2]               0\n",
      "   ConvTranspose2d-2             [-1, 16, 4, 4]           2,064\n",
      "       BatchNorm2d-3             [-1, 16, 4, 4]              32\n",
      "              ReLU-4             [-1, 16, 4, 4]               0\n",
      "   ConvTranspose2d-5              [-1, 8, 8, 8]             520\n",
      "       BatchNorm2d-6              [-1, 8, 8, 8]              16\n",
      "              ReLU-7              [-1, 8, 8, 8]               0\n",
      "   ConvTranspose2d-8            [-1, 4, 16, 16]             132\n",
      "       BatchNorm2d-9            [-1, 4, 16, 16]               8\n",
      "             ReLU-10            [-1, 4, 16, 16]               0\n",
      "  ConvTranspose2d-11            [-1, 1, 32, 32]              17\n",
      "             Tanh-12            [-1, 1, 32, 32]               0\n",
      "nn_GrayScaleToRGB-13            [-1, 3, 32, 32]               0\n",
      "================================================================\n",
      "Total params: 2,789\n",
      "Trainable params: 2,789\n",
      "Non-trainable params: 0\n",
      "----------------------------------------------------------------\n",
      "Input size (MB): 0.00\n",
      "Forward/backward pass size (MB): 0.08\n",
      "Params size (MB): 0.01\n",
      "Estimated Total Size (MB): 0.09\n",
      "----------------------------------------------------------------\n"
     ]
    }
   ],
   "source": [
    "\n",
    "summary(Nets.g_net.to(device), (128,))"
   ]
  },
  {
   "cell_type": "code",
   "execution_count": 3,
   "metadata": {},
   "outputs": [
    {
     "name": "stdout",
     "output_type": "stream",
     "text": [
      "----------------------------------------------------------------\n",
      "        Layer (type)               Output Shape         Param #\n",
      "================================================================\n",
      " nn_GrayScaleToRGB-1            [-1, 3, 32, 32]               0\n",
      "            Conv2d-2            [-1, 4, 16, 16]             112\n",
      "       BatchNorm2d-3            [-1, 4, 16, 16]               8\n",
      "              ReLU-4            [-1, 4, 16, 16]               0\n",
      "            Conv2d-5              [-1, 4, 8, 8]             148\n",
      "       BatchNorm2d-6              [-1, 4, 8, 8]               8\n",
      "              ReLU-7              [-1, 4, 8, 8]               0\n",
      "            Conv2d-8              [-1, 4, 4, 4]             148\n",
      "       BatchNorm2d-9              [-1, 4, 4, 4]               8\n",
      "             ReLU-10              [-1, 4, 4, 4]               0\n",
      "           Conv2d-11              [-1, 3, 1, 1]             195\n",
      "          Flatten-12                    [-1, 3]               0\n",
      "          Softmax-13                    [-1, 3]               0\n",
      "================================================================\n",
      "Total params: 627\n",
      "Trainable params: 627\n",
      "Non-trainable params: 0\n",
      "----------------------------------------------------------------\n",
      "Input size (MB): 0.01\n",
      "Forward/backward pass size (MB): 0.05\n",
      "Params size (MB): 0.00\n",
      "Estimated Total Size (MB): 0.07\n",
      "----------------------------------------------------------------\n"
     ]
    }
   ],
   "source": [
    "summary(Nets.D_net.to(device), (3,32,32))"
   ]
  },
  {
   "cell_type": "code",
   "execution_count": 4,
   "metadata": {},
   "outputs": [],
   "source": [
    "g_net = nn.Sequential(\n",
    "    utils.nn_Reshape(32, 2, 2),\n",
    "    nn.ConvTranspose2d(32, 16, kernel_size = 2, stride = 2, padding = 0),\n",
    "    nn.BatchNorm2d(16),\n",
    "    nn.ReLU(),\n",
    "    nn.ConvTranspose2d(16, 8, kernel_size = 2, stride = 2, padding = 0),\n",
    "    nn.BatchNorm2d(8),\n",
    "    nn.ReLU(),\n",
    "    nn.ConvTranspose2d(8, 4, kernel_size = 2, stride = 2, padding = 0),\n",
    "    nn.BatchNorm2d(4),\n",
    "    nn.ReLU(),\n",
    "    nn.ConvTranspose2d(4, 1, kernel_size = 2, stride = 2, padding = 0),\n",
    "    nn.BatchNorm2d(1),\n",
    "    nn.Tanh(),\n",
    "    utils.nn_GrayScaleToRGB()\n",
    ")\n"
   ]
  },
  {
   "cell_type": "code",
   "execution_count": 55,
   "metadata": {},
   "outputs": [],
   "source": [
    "g, D = g_net.to(device), Nets.D_net\n",
    "xg = torch.ones((1, 128)).to(device)\n",
    "xD = torch.ones((1, 3,32,32)).to(device)\n",
    "\n",
    "lossg = g(xg).norm() ; lossg.backward()\n",
    "lossD = D(xD).norm() ; lossD.backward()\n"
   ]
  },
  {
   "cell_type": "code",
   "execution_count": 56,
   "metadata": {},
   "outputs": [
    {
     "data": {
      "text/plain": [
       "128.39025812479684"
      ]
     },
     "execution_count": 56,
     "metadata": {},
     "output_type": "execute_result"
    }
   ],
   "source": [
    "sum([w.grad.norm().cpu().item() for w in g.parameters()])"
   ]
  },
  {
   "cell_type": "code",
   "execution_count": 41,
   "metadata": {},
   "outputs": [
    {
     "data": {
      "text/plain": [
       "3.7627750406334215"
      ]
     },
     "execution_count": 41,
     "metadata": {},
     "output_type": "execute_result"
    }
   ],
   "source": [
    "sum([w.grad.norm().cpu().item() for w in D.parameters()])"
   ]
  }
 ],
 "metadata": {
  "kernelspec": {
   "display_name": "Python 3",
   "language": "python",
   "name": "python3"
  },
  "language_info": {
   "codemirror_mode": {
    "name": "ipython",
    "version": 3
   },
   "file_extension": ".py",
   "mimetype": "text/x-python",
   "name": "python",
   "nbconvert_exporter": "python",
   "pygments_lexer": "ipython3",
   "version": "3.7.9"
  }
 },
 "nbformat": 4,
 "nbformat_minor": 4
}
